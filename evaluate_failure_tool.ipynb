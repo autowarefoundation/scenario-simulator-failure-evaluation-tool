{
 "cells": [
  {
   "cell_type": "code",
   "execution_count": null,
   "id": "08f23967-7bf9-46bd-8724-ffa533ed5df4",
   "metadata": {},
   "outputs": [],
   "source": [
    "import os\n",
    "import subprocess\n",
    "import sys\n",
    "import select\n",
    "import git"
   ]
  },
  {
   "cell_type": "code",
   "execution_count": null,
   "id": "1222ec74-42eb-4e6e-86f8-7b74056e86e3",
   "metadata": {},
   "outputs": [],
   "source": [
    "# Directories and Paths (Please use absolute paths)\n",
    "repos_file_path = \"\"\n",
    "autoware_path = \"\"\n",
    "scenario_file_path = \"\"\n",
    "osm_file_path = \"\"\n",
    "pcd_file_path = \"\"\n",
    "date_to_stop_searching=\"\" #Please write it in format of \"year-month-day\" like that \"2023-09-31\"\n",
    "os.chdir(autoware_path)\n",
    "print(\"The Current working directory now is: {0}\".format(os.getcwd()))"
   ]
  },
  {
   "cell_type": "code",
   "execution_count": null,
   "id": "499d2bcb-d402-470b-9edc-b50cfc92e8ff",
   "metadata": {},
   "outputs": [],
   "source": [
    "repos_path = []\n",
    "def get_repos_paths(repos_file_lines):\n",
    "    sub1 = \" \"\n",
    "    sub2 = \":\"\n",
    "    commits = []\n",
    "    for s in repos_file_lines:\n",
    "        res = ''\n",
    "        try:\n",
    "            idx1 = s.index(sub1)\n",
    "            idx2 = s.index(sub2)\n",
    "    \n",
    "        except ValueError:\n",
    "            print(\"Oops!  That was no valid number.  Try again...\")\n",
    "            continue\n",
    "        for idx in range(idx1 + len(sub1) + 1, idx2):\n",
    "        #for idx in range(0, idx2):\n",
    "            res = res + s[idx]\n",
    "        if ' ' in res or \"simulator\" in res:\n",
    "            continue\n",
    "        repos_path.append(autoware_path+\"/src/\"+res)\n",
    "        #print(res)\n",
    "    return repos_path"
   ]
  },
  {
   "cell_type": "code",
   "execution_count": null,
   "id": "2d74b055-d7e2-45b7-80e4-34f1646d6b25",
   "metadata": {},
   "outputs": [],
   "source": [
    "with open(repos_file_path, \"r\") as file:\n",
    "    data = file.readlines()\n",
    "    get_repos_paths(data)\n",
    "print(repos_path)"
   ]
  },
  {
   "cell_type": "code",
   "execution_count": null,
   "id": "26b6e00a-ad04-438c-a4c2-fe2a1630cb6c",
   "metadata": {},
   "outputs": [],
   "source": [
    "for path in repos_path:\n",
    "    print(path)"
   ]
  },
  {
   "cell_type": "code",
   "execution_count": null,
   "id": "2fb89711-01a5-44c3-976f-3124512b2233",
   "metadata": {},
   "outputs": [],
   "source": [
    "def split_log_info(repo_log):\n",
    "    delimiter = \"\\n\\ncommit \"\n",
    "    counter = 0\n",
    "    splitted_log_info = []\n",
    "    for x in repo_log.split(delimiter):\n",
    "        if counter == 0:\n",
    "            splitted_log_info.append(x)\n",
    "            counter = counter + 1\n",
    "        else :\n",
    "            splitted_log_info.append(\"commit \"+x)\n",
    "    \n",
    "    return splitted_log_info"
   ]
  },
  {
   "cell_type": "code",
   "execution_count": null,
   "id": "27289280-708a-4d5f-b65b-1de45e206142",
   "metadata": {},
   "outputs": [],
   "source": [
    "def get_commits(splitted_log_info):\n",
    "    sub1 = \"commit\"\n",
    "    sub2 = \"\\nAuthor\"\n",
    "    commits = []\n",
    "    for s in splitted_log_info:\n",
    "        res = ''\n",
    "        try:\n",
    "            idx1 = s.index(sub1)\n",
    "            idx2 = s.index(sub2)\n",
    "    \n",
    "        except ValueError:\n",
    "            print(\"Oops!  That was no valid number.  Try again...\")\n",
    "            continue\n",
    "        for idx in range(idx1 + len(sub1) + 1, idx2):\n",
    "            res = res + s[idx]\n",
    "        commits.append(res)\n",
    "        #print(res)\n",
    "    return commits"
   ]
  },
  {
   "cell_type": "code",
   "execution_count": null,
   "id": "2c151baa-22fa-4f35-9a73-7dd2ab31b7e6",
   "metadata": {},
   "outputs": [],
   "source": [
    "repo_commits = []\n",
    "max_repo_commits_length = 0\n",
    "repos_commits_dict={}\n",
    "for repo_path in repos_path:\n",
    "    #print(repo_path)\n",
    "    repo_git = git.Git(repo_path)\n",
    "    #print(repo_git.log(-1))\n",
    "    repo_log_info = repo_git.log(\"--since=\"+date_to_stop_searching)\n",
    "    if not repo_log_info:\n",
    "        print(repo_path, \"does not have any commits in the specified time period.\\nTaking the current commit.\")\n",
    "        repo_log_info = repo_git.log(-1)\n",
    "    #print(repo_log_info)\n",
    "    splitted_log = split_log_info(repo_log_info)\n",
    "    #print(splitted_log)\n",
    "    #if  splitted_log:\n",
    "    #print(len(splitted_log))\n",
    "    repo_commits = get_commits(splitted_log)\n",
    "    if len(repo_commits) > max_repo_commits_length:\n",
    "        max_repo_commits_length = len(repo_commits)\n",
    "    print(repo_commits)\n",
    "    #else:\n",
    "     #   print(repo_path, \" does not have any commits in this time period\")\n",
    "    print(\"------/////////////////**************\\\\\\\\\\\\\\\\\\\\\\-----------\")\n",
    "    repos_commits_dict[repo_path] = repo_commits\n",
    "\n",
    "\n",
    "print(\"max_repo_commits_length = \" , max_repo_commits_length)"
   ]
  },
  {
   "cell_type": "code",
   "execution_count": null,
   "id": "8cb3cd89-df1e-45af-a95b-a9f04b17f6b0",
   "metadata": {},
   "outputs": [],
   "source": [
    "print(repos_commits_dict)"
   ]
  },
  {
   "cell_type": "code",
   "execution_count": null,
   "id": "d1989479-1b25-4770-a2c2-6d7ba0986a81",
   "metadata": {},
   "outputs": [],
   "source": [
    "counter = 0\n",
    "for repo in repos_commits_dict.keys():\n",
    "    counter = counter + 1\n",
    "    print(repo, \"has commit(s):\", len(repos_commits_dict[repo]), \"and they are :\")\n",
    "    for commit in repos_commits_dict[repo]:\n",
    "        print(commit)\n",
    "    print(\"-----------------------------------------\")\n",
    "\n",
    "print(counter)"
   ]
  },
  {
   "cell_type": "code",
   "execution_count": null,
   "id": "3ea7f0c0-466d-4144-8cb4-d1a88913e7d6",
   "metadata": {},
   "outputs": [],
   "source": [
    "def run_subprocess_with_capture_and_print(cmd):\n",
    "    p = subprocess.Popen(cmd,\n",
    "        stdout=subprocess.PIPE, stderr=subprocess.PIPE)\n",
    "    \n",
    "    stdout = []\n",
    "    stderr = []\n",
    "    \n",
    "    while True:\n",
    "        reads = [p.stdout.fileno(), p.stderr.fileno()]\n",
    "        ret = select.select(reads, [], [])\n",
    "    \n",
    "        for fd in ret[0]:\n",
    "            if fd == p.stdout.fileno():\n",
    "                read = p.stdout.readline()\n",
    "                sys.stdout.write(read.decode())\n",
    "                stdout.append(read.decode())\n",
    "            if fd == p.stderr.fileno():\n",
    "                read = p.stderr.readline()\n",
    "                sys.stderr.write(read.decode())\n",
    "                stderr.append(read.decode())\n",
    "    \n",
    "        if p.poll() != None:\n",
    "            break\n",
    "    \n",
    "    return stdout, stderr\n",
    "    "
   ]
  },
  {
   "cell_type": "code",
   "execution_count": null,
   "id": "c590c4f9-553e-4e40-bdd5-6a6149997303",
   "metadata": {},
   "outputs": [],
   "source": [
    "def compile_autoware():\n",
    "    cmd = [\"colcon\",\"build\",\"--symlink-install\",\"--cmake-args\", \"-DCMAKE_BUILD_TYPE=Debug\", \"-DCMAKE_EXPORT_COMPILE_COMMANDS=1\"]\n",
    "    stdout, stderr = run_subprocess_with_capture_and_print(cmd)\n",
    "    print('Compilate Ended')\n",
    "    return stdout, stderr\n",
    "    \n",
    "    #print('stdout:', \"\".join(stdout))\n",
    "    #print('stderr:', \"\".join(stderr))"
   ]
  },
  {
   "cell_type": "code",
   "execution_count": null,
   "id": "85c1c117-f75d-4f85-ae55-e5dbd9462f5e",
   "metadata": {},
   "outputs": [],
   "source": [
    "def check_autoware_compile_output(compile_stdout):\n",
    "    for msg in compile_stdout:\n",
    "        if \"Aborted\" in msg or \"Failed\" in msg:\n",
    "            return False\n",
    "    return True"
   ]
  },
  {
   "cell_type": "code",
   "execution_count": null,
   "id": "61e07348-7418-43c2-8067-d77205bb983e",
   "metadata": {},
   "outputs": [],
   "source": [
    "def run_scenario_simulator():\n",
    "    with open(scenario_file_path, \"r\") as file:\n",
    "        data = file.readlines()\n",
    "        count = 0\n",
    "        for line in data:\n",
    "            if \"LogicFile:\" in line:\n",
    "                print(\"found\")\n",
    "                logic_file = True\n",
    "                data[count + 1] = \"      filepath: \"+osm_file_path+\"\\n\"\n",
    "                logic_file_line_number = count + 1\n",
    "            if \"SceneGraphFile:\" in line:\n",
    "                print(\"found\")\n",
    "                scene_graphic = True\n",
    "                data[count + 1] = \"      filepath: \"+pcd_file_path+\"\\n\"\n",
    "            count = count + 1\n",
    "        with open(scenario_file_path, \"w\") as output:\n",
    "            output.writelines(data)\n",
    "    \n",
    "    cmd = [\"ros2\",\"launch\",\"scenario_test_runner\",\"scenario_test_runner.launch.py\", \"architecture_type:=awf/universe\", \n",
    "       \"record:=false\", \"scenario:=\"+scenario_file_path,\n",
    "       \"sensor_model:=sample_sensor_kit\", \"vehicle_model:=sample_vehicle\"]\n",
    "    \n",
    "    stdout, stderr = run_subprocess_with_capture_and_print(cmd)\n",
    "        \n",
    "    print(\"Scenario Simulator Run Ended\")\n",
    "    return stdout, stderr"
   ]
  },
  {
   "cell_type": "code",
   "execution_count": null,
   "id": "09385fd4-38f1-4da7-9947-e6afba77359a",
   "metadata": {},
   "outputs": [],
   "source": [
    "def check_scenario_simulator_output(sim_stdout):\n",
    "    number_of_scenarios = 0\n",
    "    number_of_successful_scenarios = 0\n",
    "    for msg in sim_stdout:\n",
    "        if \"Shutting down Autoware: (3/3) Waiting for Autoware to be exited\" in msg :\n",
    "            number_of_scenarios = number_of_scenarios + 1\n",
    "        if \"Passed\" in msg :\n",
    "            number_of_successful_scenarios = number_of_successful_scenarios + 1\n",
    "    if number_of_scenarios > 0:\n",
    "        if number_of_scenarios == number_of_successful_scenarios:\n",
    "            return True\n",
    "    return False"
   ]
  },
  {
   "cell_type": "code",
   "execution_count": null,
   "id": "4965105f-7910-4567-8f73-cc21af6274da",
   "metadata": {},
   "outputs": [],
   "source": [
    "def print_repos_before_first_success(index):\n",
    "    for repo in repos_commits_dict.keys():\n",
    "        commit = \"empty\"\n",
    "        if index > len(repos_commits_dict[repo]) - 1 :\n",
    "            commit = repos_commits_dict[len(repos_commits_dict[repo]) - 1]\n",
    "        else :\n",
    "            commit = repos_commits_dict[index]\n",
    "        print(\"Repo Name : \", repo, \" - Commit ID : \", commit)\n",
    "        print(\"--------////-------\")"
   ]
  },
  {
   "cell_type": "code",
   "execution_count": null,
   "id": "b1e6ea88-ae9a-4c45-b6d5-454259d4c2d0",
   "metadata": {
    "scrolled": true
   },
   "outputs": [],
   "source": [
    "scenario_pass = False\n",
    "last_changed_repo = \"empty\"\n",
    "last_change_commit = \"empty\"\n",
    "index = -1\n",
    "for i in range(1, max_repo_commits_length):\n",
    "    for repo in repos_commits_dict.keys():\n",
    "        if len(repos_commits_dict[repo]) == 1 or i > len(repos_commits_dict[repo])-1:\n",
    "            continue\n",
    "        print(\"Checking out repo\", repo, \"of commit id \", repos_commits_dict[repo])\n",
    "        repo_git = git.Git(repo)\n",
    "        repo_git.checkout(repos_commits_dict[repo][i])\n",
    "        #compile\n",
    "        print(\"Compiling Autoware\")\n",
    "        compile_stdout, compile_stderr = compile_autoware()\n",
    "        compile_pass = check_autoware_compile_output(compile_stdout)\n",
    "        #if compile fail .. contine\n",
    "        if not compile_pass:\n",
    "            continue\n",
    "        # run sim\n",
    "        print(\"Running Scenario Simulator\")\n",
    "        sim_stdout, sim_stderr = run_scenario_simulator()\n",
    "        # check if all iterations pass\n",
    "        sim_pass = check_scenario_simulator_output(sim_stdout)\n",
    "        if sim_pass:\n",
    "            print(\"Found the repos that made the scenario pass with all iterations\")\n",
    "            scenario_pass = True\n",
    "            last_changed_repo = repo\n",
    "            last_change_commit = repos_commits_dict[repo]\n",
    "            index = i - 1\n",
    "            break\n",
    "            #print and formate repos file\n",
    "            # break\n",
    "    if scenario_pass:\n",
    "        break\n",
    "        \n",
    "        #if true print and break\n",
    "        #if false continue"
   ]
  },
  {
   "cell_type": "code",
   "execution_count": null,
   "id": "0eaafe4c-9a81-4c0f-b62d-79c506438baa",
   "metadata": {},
   "outputs": [],
   "source": [
    "if scenario_pass == False :\n",
    "    print(\"The script is not able to find the success/fail border\")\n",
    "else:\n",
    "    print_repos_before_first_success(index)"
   ]
  }
 ],
 "metadata": {
  "kernelspec": {
   "display_name": "Python 3 (ipykernel)",
   "language": "python",
   "name": "python3"
  },
  "language_info": {
   "codemirror_mode": {
    "name": "ipython",
    "version": 3
   },
   "file_extension": ".py",
   "mimetype": "text/x-python",
   "name": "python",
   "nbconvert_exporter": "python",
   "pygments_lexer": "ipython3",
   "version": "3.10.12"
  }
 },
 "nbformat": 4,
 "nbformat_minor": 5
}
